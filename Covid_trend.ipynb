{
  "nbformat": 4,
  "nbformat_minor": 0,
  "metadata": {
    "colab": {
      "name": "Covid_trend.ipynb",
      "provenance": [],
      "mount_file_id": "1sOxsoIB88D2MNbXCUO0XgJlA0sUNMWrA",
      "authorship_tag": "ABX9TyPxx+6Ed7jrhhjhBE8XwmCs",
      "include_colab_link": true
    },
    "kernelspec": {
      "name": "python3",
      "display_name": "Python 3"
    }
  },
  "cells": [
    {
      "cell_type": "markdown",
      "metadata": {
        "id": "view-in-github",
        "colab_type": "text"
      },
      "source": [
        "<a href=\"https://colab.research.google.com/github/PietroDF/Covid_forecast/blob/master/Covid_trend.ipynb\" target=\"_parent\"><img src=\"https://colab.research.google.com/assets/colab-badge.svg\" alt=\"Open In Colab\"/></a>"
      ]
    },
    {
      "cell_type": "code",
      "metadata": {
        "id": "i61TQukah7WX",
        "colab_type": "code",
        "colab": {}
      },
      "source": [
        "import numpy as np"
      ],
      "execution_count": 0,
      "outputs": []
    },
    {
      "cell_type": "code",
      "metadata": {
        "id": "W67CApfniBzy",
        "colab_type": "code",
        "colab": {}
      },
      "source": [
        "import pandas as pd"
      ],
      "execution_count": 0,
      "outputs": []
    },
    {
      "cell_type": "code",
      "metadata": {
        "id": "DFu3fanOxck6",
        "colab_type": "code",
        "colab": {}
      },
      "source": [
        "import matplotlib.pyplot as plt"
      ],
      "execution_count": 0,
      "outputs": []
    },
    {
      "cell_type": "code",
      "metadata": {
        "id": "oSfBhu7Szgrr",
        "colab_type": "code",
        "colab": {}
      },
      "source": [
        "import scipy.optimize, scipy.stats"
      ],
      "execution_count": 0,
      "outputs": []
    },
    {
      "cell_type": "code",
      "metadata": {
        "id": "7h1WwtyyQXGv",
        "colab_type": "code",
        "colab": {}
      },
      "source": [
        "import datetime as dt"
      ],
      "execution_count": 0,
      "outputs": []
    },
    {
      "cell_type": "code",
      "metadata": {
        "id": "xkQeAnpWvpw6",
        "colab_type": "code",
        "colab": {}
      },
      "source": [
        "path_to_txt = '/content/drive/My Drive/Machine Learning/COVID/dpc-covid19-ita-andamento-nazionale.csv'"
      ],
      "execution_count": 0,
      "outputs": []
    },
    {
      "cell_type": "code",
      "metadata": {
        "id": "GRfcWXSttMwV",
        "colab_type": "code",
        "colab": {}
      },
      "source": [
        "csv_data = pd.read_csv(path_to_txt)"
      ],
      "execution_count": 0,
      "outputs": []
    },
    {
      "cell_type": "code",
      "metadata": {
        "id": "nsOOXGB7vAUO",
        "colab_type": "code",
        "outputId": "841217a5-7a05-4984-ab6a-44bed71bf142",
        "colab": {
          "base_uri": "https://localhost:8080/",
          "height": 313
        }
      },
      "source": [
        "csv_data.tail()"
      ],
      "execution_count": 0,
      "outputs": [
        {
          "output_type": "execute_result",
          "data": {
            "text/html": [
              "<div>\n",
              "<style scoped>\n",
              "    .dataframe tbody tr th:only-of-type {\n",
              "        vertical-align: middle;\n",
              "    }\n",
              "\n",
              "    .dataframe tbody tr th {\n",
              "        vertical-align: top;\n",
              "    }\n",
              "\n",
              "    .dataframe thead th {\n",
              "        text-align: right;\n",
              "    }\n",
              "</style>\n",
              "<table border=\"1\" class=\"dataframe\">\n",
              "  <thead>\n",
              "    <tr style=\"text-align: right;\">\n",
              "      <th></th>\n",
              "      <th>data</th>\n",
              "      <th>stato</th>\n",
              "      <th>ricoverati_con_sintomi</th>\n",
              "      <th>terapia_intensiva</th>\n",
              "      <th>totale_ospedalizzati</th>\n",
              "      <th>isolamento_domiciliare</th>\n",
              "      <th>totale_attualmente_positivi</th>\n",
              "      <th>nuovi_attualmente_positivi</th>\n",
              "      <th>dimessi_guariti</th>\n",
              "      <th>deceduti</th>\n",
              "      <th>totale_casi</th>\n",
              "      <th>tamponi</th>\n",
              "    </tr>\n",
              "  </thead>\n",
              "  <tbody>\n",
              "    <tr>\n",
              "      <th>18</th>\n",
              "      <td>2020-03-13 17:00:00</td>\n",
              "      <td>ITA</td>\n",
              "      <td>7426</td>\n",
              "      <td>1328</td>\n",
              "      <td>8754</td>\n",
              "      <td>6201</td>\n",
              "      <td>14955</td>\n",
              "      <td>2116</td>\n",
              "      <td>1439</td>\n",
              "      <td>1266</td>\n",
              "      <td>17660</td>\n",
              "      <td>97488</td>\n",
              "    </tr>\n",
              "    <tr>\n",
              "      <th>19</th>\n",
              "      <td>2020-03-14 17:00:00</td>\n",
              "      <td>ITA</td>\n",
              "      <td>8372</td>\n",
              "      <td>1518</td>\n",
              "      <td>9890</td>\n",
              "      <td>7860</td>\n",
              "      <td>17750</td>\n",
              "      <td>2795</td>\n",
              "      <td>1966</td>\n",
              "      <td>1441</td>\n",
              "      <td>21157</td>\n",
              "      <td>109170</td>\n",
              "    </tr>\n",
              "    <tr>\n",
              "      <th>20</th>\n",
              "      <td>2020-03-15 17:00:00</td>\n",
              "      <td>ITA</td>\n",
              "      <td>9663</td>\n",
              "      <td>1672</td>\n",
              "      <td>11335</td>\n",
              "      <td>9268</td>\n",
              "      <td>20603</td>\n",
              "      <td>2853</td>\n",
              "      <td>2335</td>\n",
              "      <td>1809</td>\n",
              "      <td>24747</td>\n",
              "      <td>124899</td>\n",
              "    </tr>\n",
              "    <tr>\n",
              "      <th>21</th>\n",
              "      <td>2020-03-16 17:00:00</td>\n",
              "      <td>ITA</td>\n",
              "      <td>11025</td>\n",
              "      <td>1851</td>\n",
              "      <td>12876</td>\n",
              "      <td>10197</td>\n",
              "      <td>23073</td>\n",
              "      <td>2470</td>\n",
              "      <td>2749</td>\n",
              "      <td>2158</td>\n",
              "      <td>27980</td>\n",
              "      <td>137962</td>\n",
              "    </tr>\n",
              "    <tr>\n",
              "      <th>22</th>\n",
              "      <td>2020-03-17 17:00:00</td>\n",
              "      <td>ITA</td>\n",
              "      <td>12894</td>\n",
              "      <td>2060</td>\n",
              "      <td>14954</td>\n",
              "      <td>11108</td>\n",
              "      <td>26062</td>\n",
              "      <td>2989</td>\n",
              "      <td>2941</td>\n",
              "      <td>2503</td>\n",
              "      <td>31506</td>\n",
              "      <td>148657</td>\n",
              "    </tr>\n",
              "  </tbody>\n",
              "</table>\n",
              "</div>"
            ],
            "text/plain": [
              "                   data stato  ...  totale_casi  tamponi\n",
              "18  2020-03-13 17:00:00   ITA  ...        17660    97488\n",
              "19  2020-03-14 17:00:00   ITA  ...        21157   109170\n",
              "20  2020-03-15 17:00:00   ITA  ...        24747   124899\n",
              "21  2020-03-16 17:00:00   ITA  ...        27980   137962\n",
              "22  2020-03-17 17:00:00   ITA  ...        31506   148657\n",
              "\n",
              "[5 rows x 12 columns]"
            ]
          },
          "metadata": {
            "tags": []
          },
          "execution_count": 205
        }
      ]
    },
    {
      "cell_type": "code",
      "metadata": {
        "id": "NaV_6G2Rv0Wv",
        "colab_type": "code",
        "colab": {}
      },
      "source": [
        "day_month = [x[0:10] for x in csv_data['data'].tolist()]\n",
        "new_pos = [x for x in csv_data['nuovi_attualmente_positivi'].tolist()]\n",
        "tot_pos = [x for x in csv_data['totale_attualmente_positivi'].tolist()]"
      ],
      "execution_count": 0,
      "outputs": []
    },
    {
      "cell_type": "code",
      "metadata": {
        "id": "AZLAmJH8wAvj",
        "colab_type": "code",
        "outputId": "2d13dd02-f3f9-41b4-cbc4-3abb66cea146",
        "colab": {
          "base_uri": "https://localhost:8080/",
          "height": 416
        }
      },
      "source": [
        "tot_pos"
      ],
      "execution_count": 0,
      "outputs": [
        {
          "output_type": "execute_result",
          "data": {
            "text/plain": [
              "[221,\n",
              " 311,\n",
              " 385,\n",
              " 588,\n",
              " 821,\n",
              " 1049,\n",
              " 1577,\n",
              " 1835,\n",
              " 2263,\n",
              " 2706,\n",
              " 3296,\n",
              " 3916,\n",
              " 5061,\n",
              " 6387,\n",
              " 7985,\n",
              " 8514,\n",
              " 10590,\n",
              " 12839,\n",
              " 14955,\n",
              " 17750,\n",
              " 20603,\n",
              " 23073,\n",
              " 26062]"
            ]
          },
          "metadata": {
            "tags": []
          },
          "execution_count": 207
        }
      ]
    },
    {
      "cell_type": "code",
      "metadata": {
        "id": "x4LHD-gqwJVa",
        "colab_type": "code",
        "outputId": "03e379c8-7a66-4c35-b220-fc6e2c9dd29f",
        "colab": {
          "base_uri": "https://localhost:8080/",
          "height": 346
        }
      },
      "source": [
        "plt.xticks(rotation=90)\n",
        "plt.title('total_positive')\n",
        "plt.plot(day_month,tot_pos)"
      ],
      "execution_count": 0,
      "outputs": [
        {
          "output_type": "execute_result",
          "data": {
            "text/plain": [
              "[<matplotlib.lines.Line2D at 0x7fb0e9c86320>]"
            ]
          },
          "metadata": {
            "tags": []
          },
          "execution_count": 208
        },
        {
          "output_type": "display_data",
          "data": {
            "image/png": "[encoded data removed]",
            "text/plain": [
              "<Figure size 432x288 with 1 Axes>"
            ]
          },
          "metadata": {
            "tags": []
          }
        }
      ]
    },
    {
      "cell_type": "code",
      "metadata": {
        "id": "KM8W7Vd6xa5J",
        "colab_type": "code",
        "outputId": "f7d7d32a-42cf-4735-ddab-9e72eebed6e2",
        "colab": {
          "base_uri": "https://localhost:8080/",
          "height": 346
        }
      },
      "source": [
        "plt.xticks(rotation=90)\n",
        "plt.title('new_positive')\n",
        "plt.plot(day_month,new_pos)"
      ],
      "execution_count": 0,
      "outputs": [
        {
          "output_type": "execute_result",
          "data": {
            "text/plain": [
              "[<matplotlib.lines.Line2D at 0x7fb0e9c0c2b0>]"
            ]
          },
          "metadata": {
            "tags": []
          },
          "execution_count": 209
        },
        {
          "output_type": "display_data",
          "data": {
            "image/png": "[encoded data removed]",
            "text/plain": [
              "<Figure size 432x288 with 1 Axes>"
            ]
          },
          "metadata": {
            "tags": []
          }
        }
      ]
    },
    {
      "cell_type": "code",
      "metadata": {
        "id": "N5vFcXiVzjhE",
        "colab_type": "code",
        "colab": {}
      },
      "source": [
        ""
      ],
      "execution_count": 0,
      "outputs": []
    },
    {
      "cell_type": "code",
      "metadata": {
        "id": "VvNhg5A0z46N",
        "colab_type": "code",
        "colab": {}
      },
      "source": [
        "normal_dib = scipy.stats.norm(0, 1)"
      ],
      "execution_count": 0,
      "outputs": []
    },
    {
      "cell_type": "code",
      "metadata": {
        "id": "fIVXPiwFz4z7",
        "colab_type": "code",
        "outputId": "b2e2fbbf-f7de-477a-d1b3-f22c4fb5a8de",
        "colab": {
          "base_uri": "https://localhost:8080/",
          "height": 34
        }
      },
      "source": [
        "normal_dib.pdf([0,0.1])"
      ],
      "execution_count": 0,
      "outputs": [
        {
          "output_type": "execute_result",
          "data": {
            "text/plain": [
              "array([0.39894228, 0.39695255])"
            ]
          },
          "metadata": {
            "tags": []
          },
          "execution_count": 211
        }
      ]
    },
    {
      "cell_type": "code",
      "metadata": {
        "id": "uorCmP93z4ub",
        "colab_type": "code",
        "colab": {}
      },
      "source": [
        ""
      ],
      "execution_count": 0,
      "outputs": []
    },
    {
      "cell_type": "code",
      "metadata": {
        "id": "Fv5z2nxe1pKQ",
        "colab_type": "code",
        "colab": {}
      },
      "source": [
        "x = np.linspace(-3.5, 3.5,71)"
      ],
      "execution_count": 0,
      "outputs": []
    },
    {
      "cell_type": "code",
      "metadata": {
        "id": "xd1rn16v0wze",
        "colab_type": "code",
        "outputId": "0fe59aff-8807-41bd-fb29-f81b1291f326",
        "colab": {
          "base_uri": "https://localhost:8080/",
          "height": 139
        }
      },
      "source": [
        "x"
      ],
      "execution_count": 0,
      "outputs": [
        {
          "output_type": "execute_result",
          "data": {
            "text/plain": [
              "array([-3.5, -3.4, -3.3, -3.2, -3.1, -3. , -2.9, -2.8, -2.7, -2.6, -2.5,\n",
              "       -2.4, -2.3, -2.2, -2.1, -2. , -1.9, -1.8, -1.7, -1.6, -1.5, -1.4,\n",
              "       -1.3, -1.2, -1.1, -1. , -0.9, -0.8, -0.7, -0.6, -0.5, -0.4, -0.3,\n",
              "       -0.2, -0.1,  0. ,  0.1,  0.2,  0.3,  0.4,  0.5,  0.6,  0.7,  0.8,\n",
              "        0.9,  1. ,  1.1,  1.2,  1.3,  1.4,  1.5,  1.6,  1.7,  1.8,  1.9,\n",
              "        2. ,  2.1,  2.2,  2.3,  2.4,  2.5,  2.6,  2.7,  2.8,  2.9,  3. ,\n",
              "        3.1,  3.2,  3.3,  3.4,  3.5])"
            ]
          },
          "metadata": {
            "tags": []
          },
          "execution_count": 213
        }
      ]
    },
    {
      "cell_type": "code",
      "metadata": {
        "id": "GO7z4UEAD8X1",
        "colab_type": "code",
        "colab": {}
      },
      "source": [
        "y = normal_dib.pdf(x)"
      ],
      "execution_count": 0,
      "outputs": []
    },
    {
      "cell_type": "code",
      "metadata": {
        "id": "uX1IsIB3D9GK",
        "colab_type": "code",
        "outputId": "432775f8-3263-415c-bef2-33ee0f75f025",
        "colab": {
          "base_uri": "https://localhost:8080/",
          "height": 282
        }
      },
      "source": [
        "plt.plot(x,y)"
      ],
      "execution_count": 0,
      "outputs": [
        {
          "output_type": "execute_result",
          "data": {
            "text/plain": [
              "[<matplotlib.lines.Line2D at 0x7fb0e9b86438>]"
            ]
          },
          "metadata": {
            "tags": []
          },
          "execution_count": 215
        },
        {
          "output_type": "display_data",
          "data": {
            "image/png": "[encoded data removed]",
            "text/plain": [
              "<Figure size 432x288 with 1 Axes>"
            ]
          },
          "metadata": {
            "tags": []
          }
        }
      ]
    },
    {
      "cell_type": "code",
      "metadata": {
        "id": "vBRafHmFEft8",
        "colab_type": "code",
        "colab": {}
      },
      "source": [
        ""
      ],
      "execution_count": 0,
      "outputs": []
    },
    {
      "cell_type": "code",
      "metadata": {
        "id": "M_0zCplsEpFL",
        "colab_type": "code",
        "colab": {}
      },
      "source": [
        "past_x = x[:len(tot_pos)]\n",
        "past_y = y[:len(tot_pos)]"
      ],
      "execution_count": 0,
      "outputs": []
    },
    {
      "cell_type": "code",
      "metadata": {
        "id": "2u6Q3dA4EpAI",
        "colab_type": "code",
        "outputId": "03b45db0-6bba-4e4d-daa0-d5630fd91431",
        "colab": {
          "base_uri": "https://localhost:8080/",
          "height": 282
        }
      },
      "source": [
        "plt.plot(x,y)\n",
        "plt.plot(past_x,past_y,'-r')"
      ],
      "execution_count": 0,
      "outputs": [
        {
          "output_type": "execute_result",
          "data": {
            "text/plain": [
              "[<matplotlib.lines.Line2D at 0x7fb0e9cb8ba8>]"
            ]
          },
          "metadata": {
            "tags": []
          },
          "execution_count": 217
        },
        {
          "output_type": "display_data",
          "data": {
            "image/png": "[encoded data removed]",
            "text/plain": [
              "<Figure size 432x288 with 1 Axes>"
            ]
          },
          "metadata": {
            "tags": []
          }
        }
      ]
    },
    {
      "cell_type": "code",
      "metadata": {
        "id": "es476qLfEfjU",
        "colab_type": "code",
        "colab": {}
      },
      "source": [
        "from numpy import linalg as LA"
      ],
      "execution_count": 0,
      "outputs": []
    },
    {
      "cell_type": "code",
      "metadata": {
        "id": "N5iRtkwtxa0i",
        "colab_type": "code",
        "colab": {}
      },
      "source": [
        "def compute_cost(val_in):\n",
        "\n",
        "  mu = val_in[0]\n",
        "  sigma = abs(val_in[1])\n",
        "  k = val_in[2]\n",
        "\n",
        "  normal_dib = scipy.stats.norm(mu, sigma)\n",
        "\n",
        "  x = np.linspace(-3.5, 3.5,71)\n",
        "  y = normal_dib.pdf(x)*k*1000\n",
        "\n",
        "  past_x = x[:len(tot_pos)]\n",
        "  past_y = y[:len(tot_pos)]\n",
        "\n",
        "  error = new_pos - past_y\n",
        "\n",
        "  error = LA.norm(error,2)\n",
        "  return error\n",
        "\n",
        "best_param = scipy.optimize.minimize(compute_cost, [0,1,1])"
      ],
      "execution_count": 0,
      "outputs": []
    },
    {
      "cell_type": "code",
      "metadata": {
        "id": "FCN6vk0Kxasu",
        "colab_type": "code",
        "outputId": "8bb9d1cc-fb14-4e8a-b992-e124fd788a36",
        "colab": {
          "base_uri": "https://localhost:8080/",
          "height": 225
        }
      },
      "source": [
        "best_param"
      ],
      "execution_count": 0,
      "outputs": [
        {
          "output_type": "execute_result",
          "data": {
            "text/plain": [
              "      fun: 1345.429736304091\n",
              " hess_inv: array([[0.00251107, 0.00122674, 0.01805961],\n",
              "       [0.00122674, 0.00063386, 0.00889471],\n",
              "       [0.01805961, 0.00889471, 0.13127096]])\n",
              "      jac: array([-0.00050354,  0.00120544,  0.        ])\n",
              "  message: 'Desired error not necessarily achieved due to precision loss.'\n",
              "     nfev: 486\n",
              "      nit: 28\n",
              "     njev: 95\n",
              "   status: 2\n",
              "  success: False\n",
              "        x: array([-0.98550181,  0.85458874,  6.80869018])"
            ]
          },
          "metadata": {
            "tags": []
          },
          "execution_count": 220
        }
      ]
    },
    {
      "cell_type": "code",
      "metadata": {
        "id": "ohStLDWlxaiW",
        "colab_type": "code",
        "colab": {}
      },
      "source": [
        "mu = best_param.x[0]\n",
        "sig = abs(best_param.x[1])\n",
        "k = best_param.x[2]"
      ],
      "execution_count": 0,
      "outputs": []
    },
    {
      "cell_type": "code",
      "metadata": {
        "id": "5-3WGnxLLOpC",
        "colab_type": "code",
        "colab": {}
      },
      "source": [
        "forecast = scipy.stats.norm(mu, sig).pdf(x)"
      ],
      "execution_count": 0,
      "outputs": []
    },
    {
      "cell_type": "code",
      "metadata": {
        "id": "oFoRJYvMLwAu",
        "colab_type": "code",
        "colab": {}
      },
      "source": [
        "forecast = forecast*k*1000"
      ],
      "execution_count": 0,
      "outputs": []
    },
    {
      "cell_type": "code",
      "metadata": {
        "id": "FrImm7MVVT0S",
        "colab_type": "code",
        "colab": {}
      },
      "source": [
        "num_contagi = int(np.sum(forecast))"
      ],
      "execution_count": 0,
      "outputs": []
    },
    {
      "cell_type": "code",
      "metadata": {
        "id": "-WG01qVYUwZh",
        "colab_type": "code",
        "colab": {}
      },
      "source": [
        "first_day = dt.datetime(2020,2,24)\n",
        "day_list = [first_day + timedelta(days=x) for x in range(len(forecast))]\n",
        "day_list = [x.strftime(\"%Y-%m-%d\") for x in day_list]"
      ],
      "execution_count": 0,
      "outputs": []
    },
    {
      "cell_type": "code",
      "metadata": {
        "id": "mNMYNc2tL0lZ",
        "colab_type": "code",
        "outputId": "cac3af59-7ae2-4fc8-fde7-46da73572fa2",
        "colab": {
          "base_uri": "https://localhost:8080/",
          "height": 401
        }
      },
      "source": [
        "plt.figure(figsize=(15,5))\n",
        "\n",
        "plt.xticks(rotation=90)\n",
        "plt.title('new_positive')\n",
        "\n",
        "plt.plot(day_month, new_pos,'-r')\n",
        "plt.plot(day_list, forecast)\n",
        "\n",
        "print(num_contagi)"
      ],
      "execution_count": 0,
      "outputs": [
        {
          "output_type": "stream",
          "text": [
            "67995\n"
          ],
          "name": "stdout"
        },
        {
          "output_type": "display_data",
          "data": {
            "image/png": "[encoded data removed]",
            "text/plain": [
              "<Figure size 1080x360 with 1 Axes>"
            ]
          },
          "metadata": {
            "tags": []
          }
        }
      ]
    },
    {
      "cell_type": "code",
      "metadata": {
        "id": "GHJuKj8blB-q",
        "colab_type": "code",
        "outputId": "c74548e0-812b-4d73-93e5-23ad3fc2e253",
        "colab": {
          "base_uri": "https://localhost:8080/",
          "height": 34
        }
      },
      "source": [
        "forecast[0]"
      ],
      "execution_count": 0,
      "outputs": [
        {
          "output_type": "execute_result",
          "data": {
            "text/plain": [
              "41.906590157469644"
            ]
          },
          "metadata": {
            "tags": []
          },
          "execution_count": 227
        }
      ]
    },
    {
      "cell_type": "code",
      "metadata": {
        "id": "q6_TwaHXMQMH",
        "colab_type": "code",
        "outputId": "e318736f-852d-42cf-cb13-7931594dd6cd",
        "colab": {
          "base_uri": "https://localhost:8080/",
          "height": 34
        }
      },
      "source": [
        "num_contagi"
      ],
      "execution_count": 0,
      "outputs": [
        {
          "output_type": "execute_result",
          "data": {
            "text/plain": [
              "67995"
            ]
          },
          "metadata": {
            "tags": []
          },
          "execution_count": 230
        }
      ]
    },
    {
      "cell_type": "code",
      "metadata": {
        "id": "rDTV-P6SR7Fm",
        "colab_type": "code",
        "colab": {}
      },
      "source": [
        "cum_contagi = np.cumsum(forecast)"
      ],
      "execution_count": 0,
      "outputs": []
    },
    {
      "cell_type": "code",
      "metadata": {
        "id": "BKp6P9p6QDZX",
        "colab_type": "code",
        "outputId": "cb2e77bb-b69c-4759-e22b-47f4943d5e2d",
        "colab": {
          "base_uri": "https://localhost:8080/",
          "height": 401
        }
      },
      "source": [
        "plt.figure(figsize=(15,5))\n",
        "\n",
        "plt.xticks(rotation=90)\n",
        "plt.title('tot_positive')\n",
        "\n",
        "plt.plot(day_list, cum_contagi)\n",
        "plt.plot(day_month,tot_pos,'*r')"
      ],
      "execution_count": 0,
      "outputs": [
        {
          "output_type": "execute_result",
          "data": {
            "text/plain": [
              "[<matplotlib.lines.Line2D at 0x7fb0e99d5470>]"
            ]
          },
          "metadata": {
            "tags": []
          },
          "execution_count": 232
        },
        {
          "output_type": "display_data",
          "data": {
            "image/png": "[encoded data removed]",
            "text/plain": [
              "<Figure size 1080x360 with 1 Axes>"
            ]
          },
          "metadata": {
            "tags": []
          }
        }
      ]
    },
    {
      "cell_type": "code",
      "metadata": {
        "id": "q1ww2T6OWJd9",
        "colab_type": "code",
        "colab": {}
      },
      "source": [
        ""
      ],
      "execution_count": 0,
      "outputs": []
    },
    {
      "cell_type": "markdown",
      "metadata": {
        "id": "FcYtsD3nvwMc",
        "colab_type": "text"
      },
      "source": [
        "# MonteCarlo simulation"
      ]
    },
    {
      "cell_type": "code",
      "metadata": {
        "id": "cXJJMLS0wRiu",
        "colab_type": "code",
        "colab": {}
      },
      "source": [
        "num_elapsed_days = len(new_pos)\n",
        "tomorrow_new_positives = 0\n",
        "tomorrow_cum_positives = 0"
      ],
      "execution_count": 0,
      "outputs": []
    },
    {
      "cell_type": "code",
      "metadata": {
        "id": "efpf_FJfXSC2",
        "colab_type": "code",
        "colab": {}
      },
      "source": [
        "num_iter = 5\n",
        "\n",
        "mu = np.zeros((num_iter,1))\n",
        "sigma = np.zeros((num_iter,1))\n",
        "k = np.zeros((num_iter,1))\n",
        "\n",
        "x = np.linspace(-3.5, 3.5,71)\n",
        "\n",
        "forecast = []\n",
        "cum_contagi = []\n",
        "\n",
        "for i in range(num_iter):\n",
        "  \n",
        "  mu0 = 0\n",
        "  sigma0 = 1\n",
        "  k0 = 1\n",
        "\n",
        "  mu0 = mu0*(0.5 + np.random.rand())\n",
        "  sigma0 = sigma0*(0.5 + np.random.rand())\n",
        "  k0 = k0*(0.5 + np.random.rand())\n",
        "\n",
        "  best_param = scipy.optimize.minimize(compute_cost, [mu0,sigma0,k0])\n",
        "\n",
        "  [mu[i],sigma[i],k[i]] = best_param.x\n",
        "\n",
        "  sigma[i] = abs(sigma[i])\n",
        "\n",
        "  y = scipy.stats.norm(mu[i], sigma[i]).pdf(x)*k[i]*1000\n",
        "  cumsum_y = np.cumsum(y)\n",
        "\n",
        "  tomorrow_new_positives+=y[num_elapsed_days+1]\n",
        "  tomorrow_cum_positives+=cumsum_y[num_elapsed_days+1]\n",
        "\n",
        "  forecast.append(y)\n",
        "  cum_contagi.append(cumsum_y)\n",
        "\n",
        "tomorrow_new_positives = int(tomorrow_new_positives/num_iter)\n",
        "tomorrow_cum_positives = int(tomorrow_cum_positives/num_iter)"
      ],
      "execution_count": 0,
      "outputs": []
    },
    {
      "cell_type": "code",
      "metadata": {
        "id": "-i07v9CeXRw0",
        "colab_type": "code",
        "outputId": "5af2c82d-47a7-4797-e9de-c0a9bccc9887",
        "colab": {
          "base_uri": "https://localhost:8080/",
          "height": 401
        }
      },
      "source": [
        "plt.figure(figsize=(15,5))\n",
        "\n",
        "plt.xticks(rotation=90)\n",
        "plt.title('tot_positive')\n",
        "\n",
        "for i in range(num_iter):\n",
        "\n",
        "  plt.plot(day_list, forecast[i])\n",
        "\n",
        "plt.plot(new_pos,'*r')"
      ],
      "execution_count": 0,
      "outputs": [
        {
          "output_type": "execute_result",
          "data": {
            "text/plain": [
              "[<matplotlib.lines.Line2D at 0x7fb0e9ac4940>]"
            ]
          },
          "metadata": {
            "tags": []
          },
          "execution_count": 234
        },
        {
          "output_type": "display_data",
          "data": {
            "image/png": "[encoded data removed]",
            "text/plain": [
              "<Figure size 1080x360 with 1 Axes>"
            ]
          },
          "metadata": {
            "tags": []
          }
        }
      ]
    },
    {
      "cell_type": "code",
      "metadata": {
        "id": "KLFkrfwknYN4",
        "colab_type": "code",
        "outputId": "3a81b09c-e420-408b-de60-c1f146e49ed4",
        "colab": {
          "base_uri": "https://localhost:8080/",
          "height": 401
        }
      },
      "source": [
        "plt.figure(figsize=(15,5))\n",
        "\n",
        "plt.xticks(rotation=90)\n",
        "plt.title('tot_positive')\n",
        "\n",
        "for i in range(num_iter):\n",
        "\n",
        "  plt.plot(day_list, cum_contagi[i])\n",
        "\n",
        "plt.plot(tot_pos,'*r')"
      ],
      "execution_count": 0,
      "outputs": [
        {
          "output_type": "execute_result",
          "data": {
            "text/plain": [
              "[<matplotlib.lines.Line2D at 0x7fb0e9a294e0>]"
            ]
          },
          "metadata": {
            "tags": []
          },
          "execution_count": 235
        },
        {
          "output_type": "display_data",
          "data": {
            "image/png": "[encoded data removed]",
            "text/plain": [
              "<Figure size 1080x360 with 1 Axes>"
            ]
          },
          "metadata": {
            "tags": []
          }
        }
      ]
    },
    {
      "cell_type": "code",
      "metadata": {
        "id": "eFec90dnlexz",
        "colab_type": "code",
        "outputId": "dc4c9e07-32d2-47f2-a2f0-5ad7b4af2c18",
        "colab": {
          "base_uri": "https://localhost:8080/",
          "height": 51
        }
      },
      "source": [
        "# Forecast per domani\n",
        "print('Nuovi casi previsti domani: \\t' + str(tomorrow_new_positives))\n",
        "print('Cumulativo previsto domani: \\t' + str(tomorrow_cum_positives))"
      ],
      "execution_count": 0,
      "outputs": [
        {
          "output_type": "stream",
          "text": [
            "Nuovi casi previsti domani: \t3150\n",
            "Cumulativo previsto domani: \t31903\n"
          ],
          "name": "stdout"
        }
      ]
    },
    {
      "cell_type": "code",
      "metadata": {
        "id": "frfEY8fAxPLo",
        "colab_type": "code",
        "colab": {}
      },
      "source": [
        ""
      ],
      "execution_count": 0,
      "outputs": []
    }
  ]
}